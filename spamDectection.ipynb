{
  "cells": [
    {
      "cell_type": "markdown",
      "metadata": {
        "id": "view-in-github",
        "colab_type": "text"
      },
      "source": [
        "<a href=\"https://colab.research.google.com/github/Lnguyen19/spam_detections/blob/main/spamDectection.ipynb\" target=\"_parent\"><img src=\"https://colab.research.google.com/assets/colab-badge.svg\" alt=\"Open In Colab\"/></a>"
      ]
    },
    {
      "cell_type": "code",
      "execution_count": 1,
      "metadata": {
        "colab": {
          "base_uri": "https://localhost:8080/",
          "height": 90
        },
        "id": "kEQrMbrGf_cB",
        "outputId": "cc779cfb-0471-457c-f9bc-6dedbac82c64"
      },
      "outputs": [
        {
          "output_type": "display_data",
          "data": {
            "text/plain": [
              "<IPython.core.display.HTML object>"
            ],
            "text/html": [
              "\n",
              "     <input type=\"file\" id=\"files-3aadf85e-e5ce-4b9b-bb93-08e0d21a5690\" name=\"files[]\" multiple disabled\n",
              "        style=\"border:none\" />\n",
              "     <output id=\"result-3aadf85e-e5ce-4b9b-bb93-08e0d21a5690\">\n",
              "      Upload widget is only available when the cell has been executed in the\n",
              "      current browser session. Please rerun this cell to enable.\n",
              "      </output>\n",
              "      <script>// Copyright 2017 Google LLC\n",
              "//\n",
              "// Licensed under the Apache License, Version 2.0 (the \"License\");\n",
              "// you may not use this file except in compliance with the License.\n",
              "// You may obtain a copy of the License at\n",
              "//\n",
              "//      http://www.apache.org/licenses/LICENSE-2.0\n",
              "//\n",
              "// Unless required by applicable law or agreed to in writing, software\n",
              "// distributed under the License is distributed on an \"AS IS\" BASIS,\n",
              "// WITHOUT WARRANTIES OR CONDITIONS OF ANY KIND, either express or implied.\n",
              "// See the License for the specific language governing permissions and\n",
              "// limitations under the License.\n",
              "\n",
              "/**\n",
              " * @fileoverview Helpers for google.colab Python module.\n",
              " */\n",
              "(function(scope) {\n",
              "function span(text, styleAttributes = {}) {\n",
              "  const element = document.createElement('span');\n",
              "  element.textContent = text;\n",
              "  for (const key of Object.keys(styleAttributes)) {\n",
              "    element.style[key] = styleAttributes[key];\n",
              "  }\n",
              "  return element;\n",
              "}\n",
              "\n",
              "// Max number of bytes which will be uploaded at a time.\n",
              "const MAX_PAYLOAD_SIZE = 100 * 1024;\n",
              "\n",
              "function _uploadFiles(inputId, outputId) {\n",
              "  const steps = uploadFilesStep(inputId, outputId);\n",
              "  const outputElement = document.getElementById(outputId);\n",
              "  // Cache steps on the outputElement to make it available for the next call\n",
              "  // to uploadFilesContinue from Python.\n",
              "  outputElement.steps = steps;\n",
              "\n",
              "  return _uploadFilesContinue(outputId);\n",
              "}\n",
              "\n",
              "// This is roughly an async generator (not supported in the browser yet),\n",
              "// where there are multiple asynchronous steps and the Python side is going\n",
              "// to poll for completion of each step.\n",
              "// This uses a Promise to block the python side on completion of each step,\n",
              "// then passes the result of the previous step as the input to the next step.\n",
              "function _uploadFilesContinue(outputId) {\n",
              "  const outputElement = document.getElementById(outputId);\n",
              "  const steps = outputElement.steps;\n",
              "\n",
              "  const next = steps.next(outputElement.lastPromiseValue);\n",
              "  return Promise.resolve(next.value.promise).then((value) => {\n",
              "    // Cache the last promise value to make it available to the next\n",
              "    // step of the generator.\n",
              "    outputElement.lastPromiseValue = value;\n",
              "    return next.value.response;\n",
              "  });\n",
              "}\n",
              "\n",
              "/**\n",
              " * Generator function which is called between each async step of the upload\n",
              " * process.\n",
              " * @param {string} inputId Element ID of the input file picker element.\n",
              " * @param {string} outputId Element ID of the output display.\n",
              " * @return {!Iterable<!Object>} Iterable of next steps.\n",
              " */\n",
              "function* uploadFilesStep(inputId, outputId) {\n",
              "  const inputElement = document.getElementById(inputId);\n",
              "  inputElement.disabled = false;\n",
              "\n",
              "  const outputElement = document.getElementById(outputId);\n",
              "  outputElement.innerHTML = '';\n",
              "\n",
              "  const pickedPromise = new Promise((resolve) => {\n",
              "    inputElement.addEventListener('change', (e) => {\n",
              "      resolve(e.target.files);\n",
              "    });\n",
              "  });\n",
              "\n",
              "  const cancel = document.createElement('button');\n",
              "  inputElement.parentElement.appendChild(cancel);\n",
              "  cancel.textContent = 'Cancel upload';\n",
              "  const cancelPromise = new Promise((resolve) => {\n",
              "    cancel.onclick = () => {\n",
              "      resolve(null);\n",
              "    };\n",
              "  });\n",
              "\n",
              "  // Wait for the user to pick the files.\n",
              "  const files = yield {\n",
              "    promise: Promise.race([pickedPromise, cancelPromise]),\n",
              "    response: {\n",
              "      action: 'starting',\n",
              "    }\n",
              "  };\n",
              "\n",
              "  cancel.remove();\n",
              "\n",
              "  // Disable the input element since further picks are not allowed.\n",
              "  inputElement.disabled = true;\n",
              "\n",
              "  if (!files) {\n",
              "    return {\n",
              "      response: {\n",
              "        action: 'complete',\n",
              "      }\n",
              "    };\n",
              "  }\n",
              "\n",
              "  for (const file of files) {\n",
              "    const li = document.createElement('li');\n",
              "    li.append(span(file.name, {fontWeight: 'bold'}));\n",
              "    li.append(span(\n",
              "        `(${file.type || 'n/a'}) - ${file.size} bytes, ` +\n",
              "        `last modified: ${\n",
              "            file.lastModifiedDate ? file.lastModifiedDate.toLocaleDateString() :\n",
              "                                    'n/a'} - `));\n",
              "    const percent = span('0% done');\n",
              "    li.appendChild(percent);\n",
              "\n",
              "    outputElement.appendChild(li);\n",
              "\n",
              "    const fileDataPromise = new Promise((resolve) => {\n",
              "      const reader = new FileReader();\n",
              "      reader.onload = (e) => {\n",
              "        resolve(e.target.result);\n",
              "      };\n",
              "      reader.readAsArrayBuffer(file);\n",
              "    });\n",
              "    // Wait for the data to be ready.\n",
              "    let fileData = yield {\n",
              "      promise: fileDataPromise,\n",
              "      response: {\n",
              "        action: 'continue',\n",
              "      }\n",
              "    };\n",
              "\n",
              "    // Use a chunked sending to avoid message size limits. See b/62115660.\n",
              "    let position = 0;\n",
              "    do {\n",
              "      const length = Math.min(fileData.byteLength - position, MAX_PAYLOAD_SIZE);\n",
              "      const chunk = new Uint8Array(fileData, position, length);\n",
              "      position += length;\n",
              "\n",
              "      const base64 = btoa(String.fromCharCode.apply(null, chunk));\n",
              "      yield {\n",
              "        response: {\n",
              "          action: 'append',\n",
              "          file: file.name,\n",
              "          data: base64,\n",
              "        },\n",
              "      };\n",
              "\n",
              "      let percentDone = fileData.byteLength === 0 ?\n",
              "          100 :\n",
              "          Math.round((position / fileData.byteLength) * 100);\n",
              "      percent.textContent = `${percentDone}% done`;\n",
              "\n",
              "    } while (position < fileData.byteLength);\n",
              "  }\n",
              "\n",
              "  // All done.\n",
              "  yield {\n",
              "    response: {\n",
              "      action: 'complete',\n",
              "    }\n",
              "  };\n",
              "}\n",
              "\n",
              "scope.google = scope.google || {};\n",
              "scope.google.colab = scope.google.colab || {};\n",
              "scope.google.colab._files = {\n",
              "  _uploadFiles,\n",
              "  _uploadFilesContinue,\n",
              "};\n",
              "})(self);\n",
              "</script> "
            ]
          },
          "metadata": {}
        },
        {
          "output_type": "stream",
          "name": "stdout",
          "text": [
            "Saving kaggle.json to kaggle.json\n"
          ]
        },
        {
          "output_type": "execute_result",
          "data": {
            "text/plain": [
              "{'kaggle.json': b'{\"username\":\"lam8134\",\"key\":\"154eb2b43b31cd43cec727b1bf231669\"}'}"
            ]
          },
          "metadata": {},
          "execution_count": 1
        }
      ],
      "source": [
        "from google.colab import files\n",
        "files.upload()"
      ]
    },
    {
      "cell_type": "code",
      "execution_count": 2,
      "metadata": {
        "id": "c8_JJFS1gu0E"
      },
      "outputs": [],
      "source": [
        "!mkdir -p ~/.kaggle\n",
        "!mv kaggle.json ~/.kaggle/\n",
        "!chmod 600 ~/.kaggle/kaggle.json"
      ]
    },
    {
      "cell_type": "code",
      "execution_count": 3,
      "metadata": {
        "colab": {
          "base_uri": "https://localhost:8080/"
        },
        "id": "uPbjcbI5gwtg",
        "outputId": "7999b034-59fa-4620-c1b8-70b1f94f45ce"
      },
      "outputs": [
        {
          "output_type": "stream",
          "name": "stdout",
          "text": [
            "Downloading sms-spam-collection-dataset.zip to /content\n",
            "100% 211k/211k [00:00<00:00, 386kB/s]\n",
            "100% 211k/211k [00:00<00:00, 386kB/s]\n"
          ]
        }
      ],
      "source": [
        "!kaggle datasets download -d uciml/sms-spam-collection-dataset"
      ]
    },
    {
      "cell_type": "code",
      "execution_count": 4,
      "metadata": {
        "colab": {
          "base_uri": "https://localhost:8080/"
        },
        "id": "a0j0_H9ihZpp",
        "outputId": "5a309727-c167-4c1d-f511-94f0eb52da24"
      },
      "outputs": [
        {
          "output_type": "stream",
          "name": "stdout",
          "text": [
            "Archive:  sms-spam-collection-dataset.zip\n",
            "  inflating: spam.csv                \n"
          ]
        }
      ],
      "source": [
        "!unzip sms-spam-collection-dataset.zip"
      ]
    },
    {
      "cell_type": "code",
      "execution_count": 5,
      "metadata": {
        "colab": {
          "base_uri": "https://localhost:8080/"
        },
        "id": "DZ6-5ab7ltMG",
        "outputId": "4e57b072-bfd1-401c-aaf2-c7a4095c665b"
      },
      "outputs": [
        {
          "output_type": "stream",
          "name": "stdout",
          "text": [
            "Collecting keras_preprocessing\n",
            "  Downloading Keras_Preprocessing-1.1.2-py2.py3-none-any.whl (42 kB)\n",
            "\u001b[?25l     \u001b[90m━━━━━━━━━━━━━━━━━━━━━━━━━━━━━━━━━━━━━━━━\u001b[0m \u001b[32m0.0/42.6 kB\u001b[0m \u001b[31m?\u001b[0m eta \u001b[36m-:--:--\u001b[0m\r\u001b[2K     \u001b[90m━━━━━━━━━━━━━━━━━━━━━━━━━━━━━━━━━━━━━━━━\u001b[0m \u001b[32m42.6/42.6 kB\u001b[0m \u001b[31m1.5 MB/s\u001b[0m eta \u001b[36m0:00:00\u001b[0m\n",
            "\u001b[?25hRequirement already satisfied: numpy>=1.9.1 in /usr/local/lib/python3.10/dist-packages (from keras_preprocessing) (1.23.5)\n",
            "Requirement already satisfied: six>=1.9.0 in /usr/local/lib/python3.10/dist-packages (from keras_preprocessing) (1.16.0)\n",
            "Installing collected packages: keras_preprocessing\n",
            "Successfully installed keras_preprocessing-1.1.2\n"
          ]
        }
      ],
      "source": [
        "!pip install keras_preprocessing"
      ]
    },
    {
      "cell_type": "code",
      "execution_count": 6,
      "metadata": {
        "id": "P2nluFelk78U"
      },
      "outputs": [],
      "source": [
        "import keras\n",
        "from keras.datasets import imdb\n",
        "from keras_preprocessing.sequence import pad_sequences\n",
        "from sklearn import preprocessing\n",
        "from keras.models import Sequential\n",
        "from keras.layers import Dense, Flatten, Dropout\n",
        "from keras.layers import Embedding, SpatialDropout1D, Conv1D, GlobalMaxPool1D, Conv1D, MaxPooling1D\n",
        "from keras.callbacks import ModelCheckpoint\n",
        "import os\n",
        "from sklearn.metrics import roc_auc_score, roc_curve\n",
        "from sklearn.model_selection import train_test_split\n",
        "import pandas as pd\n",
        "import matplotlib.pyplot as plt\n",
        "from keras.preprocessing.text import Tokenizer\n",
        "\n",
        "from sklearn.preprocessing import LabelEncoder\n",
        "%matplotlib inline\n",
        "\n",
        "from keras.layers import SimpleRNN"
      ]
    },
    {
      "cell_type": "code",
      "execution_count": 7,
      "metadata": {
        "colab": {
          "base_uri": "https://localhost:8080/"
        },
        "id": "nRyD7SoXl3OA",
        "outputId": "6b9dd9b0-c6bc-4ae4-c173-77ce4e87c55c"
      },
      "outputs": [
        {
          "output_type": "stream",
          "name": "stdout",
          "text": [
            "     v1                                                 v2 Unnamed: 2  \\\n",
            "0   ham  Go until jurong point, crazy.. Available only ...        NaN   \n",
            "1   ham                      Ok lar... Joking wif u oni...        NaN   \n",
            "2  spam  Free entry in 2 a wkly comp to win FA Cup fina...        NaN   \n",
            "3   ham  U dun say so early hor... U c already then say...        NaN   \n",
            "4   ham  Nah I don't think he goes to usf, he lives aro...        NaN   \n",
            "\n",
            "  Unnamed: 3 Unnamed: 4  \n",
            "0        NaN        NaN  \n",
            "1        NaN        NaN  \n",
            "2        NaN        NaN  \n",
            "3        NaN        NaN  \n",
            "4        NaN        NaN  \n"
          ]
        }
      ],
      "source": [
        "data = pd.read_csv('spam.csv', encoding='latin-1')\n",
        "print(data.head())\n",
        "message = data['v2'].values\n",
        "identifier = data['v1'].values\n"
      ]
    },
    {
      "cell_type": "code",
      "execution_count": 8,
      "metadata": {
        "id": "YJpsXGpgGma9"
      },
      "outputs": [],
      "source": [
        "\n",
        "n_rnn = 256\n",
        "drop_rnn = 0.2\n",
        "drop_embed = 0.2"
      ]
    },
    {
      "cell_type": "code",
      "execution_count": 9,
      "metadata": {
        "id": "raXby-swS9aA"
      },
      "outputs": [],
      "source": [
        "epochs = 12\n",
        "batch_size = 128\n",
        "\n",
        "n_dim = 100\n",
        "n_unique_words = 5000\n",
        "total_elements = 5405\n",
        "n_words_to_skip = 50\n",
        "pad_type = trunc_type = 'pre'\n",
        "n_dense = 100\n",
        "dropout = 0.4"
      ]
    },
    {
      "cell_type": "code",
      "execution_count": 24,
      "metadata": {
        "id": "SXcM28EsKHnq"
      },
      "outputs": [],
      "source": [
        "max_review_length = 1000\n",
        "max_len = 300\n",
        "token = Tokenizer(num_words= max_review_length)\n",
        "token.fit_on_texts(message)\n",
        "sequences = token.texts_to_sequences(message)\n",
        "x = pad_sequences(sequences, maxlen=max_len)\n",
        "encoder = LabelEncoder()\n",
        "y = encoder.fit_transform(identifier)\n",
        "x_train, x_test, y_train, y_test = train_test_split(x , y, test_size=0.2, random_state=42)\n"
      ]
    },
    {
      "cell_type": "code",
      "execution_count": 37,
      "metadata": {
        "colab": {
          "base_uri": "https://localhost:8080/"
        },
        "id": "do5yCz6HM-Um",
        "outputId": "52a8aeb1-edcc-4147-b0a3-3a1cdda851fb"
      },
      "outputs": [
        {
          "output_type": "stream",
          "name": "stdout",
          "text": [
            "Epoch 1/12\n",
            "35/35 [==============================] - 37s 939ms/step - loss: 0.4271 - accuracy: 0.8517 - val_loss: 0.3967 - val_accuracy: 0.8655\n",
            "Epoch 2/12\n",
            "35/35 [==============================] - 33s 933ms/step - loss: 0.3977 - accuracy: 0.8661 - val_loss: 0.3983 - val_accuracy: 0.8655\n",
            "Epoch 3/12\n",
            "35/35 [==============================] - 30s 868ms/step - loss: 0.3949 - accuracy: 0.8661 - val_loss: 0.4074 - val_accuracy: 0.8655\n",
            "Epoch 4/12\n",
            "35/35 [==============================] - 31s 879ms/step - loss: 0.3973 - accuracy: 0.8661 - val_loss: 0.3964 - val_accuracy: 0.8655\n",
            "Epoch 5/12\n",
            "35/35 [==============================] - 31s 870ms/step - loss: 0.3947 - accuracy: 0.8661 - val_loss: 0.3940 - val_accuracy: 0.8655\n",
            "Epoch 6/12\n",
            "35/35 [==============================] - 31s 876ms/step - loss: 0.3938 - accuracy: 0.8661 - val_loss: 0.3942 - val_accuracy: 0.8655\n",
            "Epoch 7/12\n",
            "35/35 [==============================] - 30s 851ms/step - loss: 0.4089 - accuracy: 0.8569 - val_loss: 0.3911 - val_accuracy: 0.8655\n",
            "Epoch 8/12\n",
            "35/35 [==============================] - 31s 883ms/step - loss: 0.3963 - accuracy: 0.8661 - val_loss: 0.4010 - val_accuracy: 0.8655\n",
            "Epoch 9/12\n",
            "35/35 [==============================] - 30s 854ms/step - loss: 0.3991 - accuracy: 0.8661 - val_loss: 0.4100 - val_accuracy: 0.8655\n",
            "Epoch 10/12\n",
            "35/35 [==============================] - 30s 859ms/step - loss: 0.3938 - accuracy: 0.8661 - val_loss: 0.3768 - val_accuracy: 0.8655\n",
            "Epoch 11/12\n",
            "35/35 [==============================] - 30s 846ms/step - loss: 0.3114 - accuracy: 0.8858 - val_loss: 0.5068 - val_accuracy: 0.8664\n",
            "Epoch 12/12\n",
            "35/35 [==============================] - 30s 870ms/step - loss: 0.2719 - accuracy: 0.9087 - val_loss: 0.1431 - val_accuracy: 0.9435\n"
          ]
        }
      ],
      "source": [
        "\n",
        "model = Sequential()\n",
        "model.add(Embedding(n_unique_words, n_dim, input_length=max_len))\n",
        "model.add(SpatialDropout1D(drop_embed))\n",
        "model.add(SimpleRNN(n_rnn, dropout=drop_rnn, return_sequences=True))  # Stacked SimpleRNN layers\n",
        "model.add(SimpleRNN(n_rnn, dropout=drop_rnn, return_sequences=True))\n",
        "model.add(SimpleRNN(n_rnn, dropout=drop_rnn))\n",
        "model.add(Dense(1, activation='sigmoid'))\n",
        "model.compile(loss='binary_crossentropy', optimizer='adam', metrics=['accuracy'])\n",
        "history =  model.fit(x_train, y_train, batch_size=batch_size, epochs=epochs, verbose=1, validation_data=(x_test, y_test))\n"
      ]
    },
    {
      "cell_type": "code",
      "execution_count": 38,
      "metadata": {
        "id": "ul2VHNL6VSWy"
      },
      "outputs": [],
      "source": [
        "def prediction(text):\n",
        "  sequence = token.texts_to_sequences([text])\n",
        "  pad = pad_sequences(sequence, maxlen=max_len)\n",
        "  predict_ = model.predict(pad)\n",
        "  return predict_[0,0]\n"
      ]
    },
    {
      "cell_type": "code",
      "execution_count": 41,
      "metadata": {
        "id": "gMO9B8VAWklr",
        "colab": {
          "base_uri": "https://localhost:8080/"
        },
        "outputId": "749c899e-7979-41d4-d3fa-de9428b6f5fe"
      },
      "outputs": [
        {
          "output_type": "stream",
          "name": "stdout",
          "text": [
            "1/1 [==============================] - 0s 96ms/step\n",
            "0.90932316\n",
            "Spam\n"
          ]
        }
      ],
      "source": [
        "prob = prediction(\"Hurry! Last chance to double your money. Invest now for guaranteed returns.\")\n",
        "if(prob > 0.5):\n",
        "  print(prob)\n",
        "  print('Spam')\n",
        "else:\n",
        "  print(prob)\n",
        "  print('Not Spam')\n"
      ]
    }
  ],
  "metadata": {
    "accelerator": "GPU",
    "colab": {
      "provenance": [],
      "machine_shape": "hm",
      "gpuType": "A100",
      "authorship_tag": "ABX9TyMrrg9v5ErGWCLZPVnTJR8w",
      "include_colab_link": true
    },
    "kernelspec": {
      "display_name": "Python 3",
      "name": "python3"
    },
    "language_info": {
      "name": "python"
    }
  },
  "nbformat": 4,
  "nbformat_minor": 0
}